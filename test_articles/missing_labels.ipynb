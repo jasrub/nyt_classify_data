{
 "cells": [
  {
   "cell_type": "code",
   "execution_count": 1,
   "metadata": {
    "collapsed": true,
    "deletable": true,
    "editable": true
   },
   "outputs": [],
   "source": [
    "import json\n",
    "import requests"
   ]
  },
  {
   "cell_type": "code",
   "execution_count": 8,
   "metadata": {
    "collapsed": true,
    "deletable": true,
    "editable": true
   },
   "outputs": [],
   "source": [
    "API_ROOT = \"http://api.nytimes.com/svc/semantic/v2/concept/name/nytd_des/\"\n",
    "API_KEY = \"451848bd253846ca9d8147c45278b442\"\n",
    "# denisova%20hominid.json?fields=all&api-key="
   ]
  },
  {
   "cell_type": "code",
   "execution_count": 3,
   "metadata": {
    "collapsed": false,
    "deletable": true,
    "editable": true
   },
   "outputs": [],
   "source": [
    "with open('missing_labels.json', 'r') as data_file:\n",
    "    missing_labels = json.load(data_file)\n",
    "labels_data = []"
   ]
  },
  {
   "cell_type": "code",
   "execution_count": 10,
   "metadata": {
    "collapsed": false,
    "deletable": true,
    "editable": true
   },
   "outputs": [
    {
     "name": "stdout",
     "output_type": "stream",
     "text": [
      "demonstrations, protests, and riots\n"
     ]
    }
   ],
   "source": [
    "for label in missing_labels:\n",
    "    url = \"%s%s.json?fields=all&api-key=%s\"%(API_ROOT, label, API_KEY)\n",
    "    r = requests.get(url)\n",
    "    response = r.json()\n",
    "    if response['num_results']==1:\n",
    "        labels_data.append(response['results'][0])\n",
    "    else:\n",
    "        print label"
   ]
  },
  {
   "cell_type": "code",
   "execution_count": 11,
   "metadata": {
    "collapsed": false,
    "deletable": true,
    "editable": true
   },
   "outputs": [
    {
     "data": {
      "text/plain": [
       "184"
      ]
     },
     "execution_count": 11,
     "metadata": {},
     "output_type": "execute_result"
    }
   ],
   "source": [
    "len(labels_data)"
   ]
  },
  {
   "cell_type": "code",
   "execution_count": 13,
   "metadata": {
    "collapsed": false,
    "deletable": true,
    "editable": true
   },
   "outputs": [],
   "source": [
    "with open('missing_labels_data.json', 'w') as outfile:\n",
    "    json.dump(labels_data, outfile)"
   ]
  },
  {
   "cell_type": "code",
   "execution_count": 2,
   "metadata": {
    "collapsed": true,
    "deletable": true,
    "editable": true
   },
   "outputs": [],
   "source": [
    "with open('missing_labels_data_timeline.json', 'r') as outfile:\n",
    "    labels_data = json.load(outfile)"
   ]
  },
  {
   "cell_type": "code",
   "execution_count": 6,
   "metadata": {
    "collapsed": false,
    "deletable": true,
    "editable": true
   },
   "outputs": [
    {
     "name": "stdout",
     "output_type": "stream",
     "text": [
      "359\n",
      "166\n",
      "203\n",
      "62\n",
      "188\n",
      "21\n",
      "690\n",
      "2399\n",
      "26\n",
      "56\n",
      "254\n",
      "76\n",
      "27\n",
      "35\n",
      "18\n",
      "236\n",
      "86\n",
      "2598\n",
      "3803\n",
      "71\n",
      "21\n",
      "1249\n",
      "121\n",
      "126\n",
      "45\n",
      "499\n",
      "869\n",
      "3\n",
      "115\n",
      "13\n",
      "11\n",
      "345\n",
      "28\n",
      "134\n",
      "318\n",
      "1\n",
      "86\n",
      "1100\n",
      "154\n",
      "77\n",
      "232\n",
      "547\n",
      "161\n",
      "214\n",
      "2577\n",
      "5781\n",
      "477\n",
      "39\n",
      "16\n",
      "90\n",
      "353\n",
      "3113\n",
      "27\n",
      "149\n",
      "5750\n",
      "86\n",
      "50\n",
      "27\n",
      "4248\n",
      "7\n",
      "228\n",
      "2\n",
      "120\n",
      "74\n",
      "1074\n",
      "241\n",
      "1972\n",
      "116\n",
      "65\n",
      "2\n",
      "1397\n",
      "3228\n",
      "334\n",
      "182\n",
      "197\n",
      "341\n",
      "128\n",
      "923\n",
      "1\n",
      "179\n",
      "188\n",
      "279\n",
      "1024\n",
      "1173\n",
      "47\n",
      "4773\n",
      "214\n",
      "56\n",
      "601\n",
      "326\n",
      "129\n",
      "84\n",
      "2005\n",
      "256\n",
      "18\n",
      "903\n",
      "913\n",
      "129\n",
      "3989\n",
      "134\n",
      "50\n",
      "625\n",
      "525\n",
      "65\n",
      "776\n",
      "103\n",
      "799\n",
      "202\n",
      "1239\n",
      "163\n",
      "10\n",
      "13\n",
      "7952\n",
      "49\n",
      "101\n",
      "345\n",
      "1277\n",
      "115\n",
      "107\n",
      "400\n",
      "686\n",
      "1111\n",
      "88\n",
      "1451\n",
      "354\n",
      "19923\n",
      "108\n",
      "1675\n",
      "117\n",
      "1163\n",
      "182\n",
      "893\n",
      "447\n",
      "97\n",
      "11\n",
      "1214\n",
      "145\n",
      "0\n",
      "2577\n",
      "2793\n",
      "213\n",
      "110\n",
      "305\n",
      "945\n",
      "612\n",
      "688\n",
      "135\n",
      "375\n",
      "9\n",
      "278\n",
      "443\n",
      "22\n",
      "287\n",
      "0\n",
      "45\n",
      "519\n",
      "1633\n",
      "106\n",
      "1132\n",
      "336\n",
      "635\n",
      "531\n",
      "65\n",
      "45\n",
      "43\n",
      "24\n",
      "331\n",
      "245\n",
      "710\n",
      "1576\n",
      "457\n",
      "190\n",
      "108\n",
      "4769\n",
      "1007\n",
      "1287\n",
      "1012\n",
      "166\n",
      "220\n",
      "40\n",
      "3319\n",
      "246\n",
      "1460\n",
      "42\n"
     ]
    }
   ],
   "source": [
    "for label in labels_data:\n",
    "    print label[\"article_list\"][\"total\"]"
   ]
  },
  {
   "cell_type": "code",
   "execution_count": 6,
   "metadata": {
    "collapsed": false,
    "deletable": true,
    "editable": true
   },
   "outputs": [
    {
     "data": {
      "text/plain": [
       "{u'article_list': {u'results': [{u'body': u'Beyond the urban working poor, the effort is aiming at those frustrated by an economy no longer producing middle-class jobs they or their parents once held.',\n",
       "    u'byline': u'By NOAM SCHEIBER',\n",
       "    u'concepts': {u'nytd_des': [u'Minimum Wage',\n",
       "      u'Demonstrations, Protests and Riots',\n",
       "      u'Labor and Jobs',\n",
       "      u'Living Wage',\n",
       "      u'United States Economy',\n",
       "      u'Organized Labor',\n",
       "      u'Airports'],\n",
       "     u'nytd_org': [u'Service Employees International Union'],\n",
       "     u'nytd_per': [u'Trump, Donald J']},\n",
       "    u'date': u'2016-11-29T13:43:33Z',\n",
       "    u'document_type': u'article',\n",
       "    u'title': u'Eyeing the Trump Voter, \\u2018Fight for $15\\u2019 Widens Its Focus',\n",
       "    u'type_of_material': u'News',\n",
       "    u'url': u'http://www.nytimes.com/2016/11/29/business/economy/fight-for-15-wages-protests.html'},\n",
       "   {u'body': u'The agency\\u2019s commissioners mostly split along state lines when they voted on two proposals for raising the pay scale, frustrating employees\\u2019 yearslong push for what they consider a living wage.',\n",
       "    u'byline': u'By PATRICK McGEEHAN',\n",
       "    u'concepts': {u'nytd_des': [u'Wages and Salaries',\n",
       "      u'Minimum Wage',\n",
       "      u'Labor and Jobs',\n",
       "      u'Living Wage',\n",
       "      u'Airports'],\n",
       "     u'nytd_geo': [u'New Jersey', u'New York City'],\n",
       "     u'nytd_org': [u'Port Authority of New York and New Jersey',\n",
       "      u'LaGuardia Airport (Queens, NY)',\n",
       "      u'Newark Liberty International Airport (NJ)',\n",
       "      u'Kennedy International Airport (Queens, NY)'],\n",
       "     u'nytd_per': [u'Degnan, John J']},\n",
       "    u'date': u'2016-09-23T00:00:00Z',\n",
       "    u'document_type': u'article',\n",
       "    u'title': u'Wage Campaign at Port Authority Hits an Impasse',\n",
       "    u'type_of_material': u'News',\n",
       "    u'url': u'http://www.nytimes.com/2016/09/23/nyregion/wage-campaign-at-port-authority-hits-an-impasse.html'},\n",
       "   {u'body': u'The three-man panel said it was not yet ready to make a complete recommendation.',\n",
       "    u'byline': u'By PATRICK McGEEHAN',\n",
       "    u'concepts': {u'nytd_des': [u'Minimum Wage',\n",
       "      u'Fast Food Industry',\n",
       "      u'Restaurants',\n",
       "      u'Living Wage',\n",
       "      u'Wages and Salaries'],\n",
       "     u'nytd_geo': [u'New York State'],\n",
       "     u'nytd_per': [u'Musolino, Mario J']},\n",
       "    u'date': u'2015-06-30T00:00:00Z',\n",
       "    u'document_type': u'article',\n",
       "    u'title': u'Fast-Food Restaurants Should Raise Minimum Wage, New York Panel Says',\n",
       "    u'type_of_material': u'News',\n",
       "    u'url': u'http://www.nytimes.com/2015/06/30/nyregion/fast-food-restaurants-should-raise-minimum-wage-new-york-panel-says.html'},\n",
       "   {u'body': u'If you run a business that\\u2019s dependent on labor at the poverty level, it isn\\u2019t a viable business, from either a moral or practical point of view.',\n",
       "    u'byline': u'By MARK BITTMAN',\n",
       "    u'concepts': {u'nytd_des': [u'Wages and Salaries',\n",
       "      u'Minimum Wage',\n",
       "      u'Living Wage',\n",
       "      u'Food',\n",
       "      u'Fast Food Industry'],\n",
       "     u'nytd_geo': [u'Los Angeles (Calif)', u'Seattle (Wash)', u'California'],\n",
       "     u'nytd_org': [u'Walmart Stores Inc']},\n",
       "    u'date': u'2015-05-27T00:00:00Z',\n",
       "    u'document_type': u'article',\n",
       "    u'title': u'Can We Finally Treat Food Workers Fairly?',\n",
       "    u'type_of_material': u'Op-Ed',\n",
       "    u'url': u'http://www.nytimes.com/2015/05/27/opinion/can-we-finally-treat-food-workers-fairly.html'},\n",
       "   {u'body': u'The president should give preference in federal contracting to employers that pay a living wage and respect workers\\u2019 rights.',\n",
       "    u'byline': u'By TERESA TRITCH',\n",
       "    u'concepts': {u'nytd_des': [u'Executive Orders and Memorandums',\n",
       "      u'Government Contracts and Procurement',\n",
       "      u'Labor and Jobs',\n",
       "      u'Living Wage',\n",
       "      u'Organized Labor',\n",
       "      u'Wages and Salaries'],\n",
       "     u'nytd_org': [u'Costco Wholesale Corporation'],\n",
       "     u'nytd_per': [u'Obama, Barack']},\n",
       "    u'date': u'2015-05-18T09:35:28Z',\n",
       "    u'document_type': u'blogpost',\n",
       "    u'title': u'Asking President Obama for a Raise',\n",
       "    u'type_of_material': u'Blog',\n",
       "    u'url': u'http://takingnote.blogs.nytimes.com/2015/05/18/asking-president-obama-for-a-raise/'},\n",
       "   {u'body': u'Facebook announced on Tuesday that it would require its contractors and vendors to provide better benefits and a minimum hourly wage of $15.',\n",
       "    u'byline': u'By REBECCA R. RUIZ',\n",
       "    u'concepts': {u'nytd_des': [u'Living Wage',\n",
       "      u'Wages and Salaries',\n",
       "      u'Workplace Environment'],\n",
       "     u'nytd_org': [u'Facebook Inc']},\n",
       "    u'date': u'2015-05-13T18:18:11Z',\n",
       "    u'document_type': u'blogpost',\n",
       "    u'title': u'White House and Labor Advocates Praise Move by Facebook for Higher Wages',\n",
       "    u'type_of_material': u'Blog',\n",
       "    u'url': u'http://bits.blogs.nytimes.com/2015/05/13/white-house-and-labor-advocates-praise-move-by-facebook-for-higher-wages/'},\n",
       "   {u'body': u'All of the workers in a proposed office tower in Midtown Manhattan will be paid at least $13.30 an hour, the first broad application of Mayor Bill de Blasio\\u2019s executive order mandating a living wage.',\n",
       "    u'byline': u'By PATRICK McGEEHAN',\n",
       "    u'concepts': {u'nytd_des': [u'Living Wage',\n",
       "      u'Wages and Salaries',\n",
       "      u'Real Estate (Commercial)'],\n",
       "     u'nytd_geo': [u'New York City', u'Hudson Yards (Manhattan, NY)'],\n",
       "     u'nytd_org': [u'Brookfield Property Partners LP'],\n",
       "     u'nytd_per': [u'de Blasio, Bill', u'Clark, Ric']},\n",
       "    u'date': u'2015-04-17T00:00:00Z',\n",
       "    u'document_type': u'article',\n",
       "    u'title': u'Under Deal, Living Wage for Workers at a Tower in Hudson Yards',\n",
       "    u'type_of_material': u'News',\n",
       "    u'url': u'http://www.nytimes.com/2015/04/17/nyregion/under-deal-living-wage-for-workers-at-a-tower-in-hudson-yards.html'},\n",
       "   {u'body': u'In the Life@Work column, Tony Schwartz provides a step-by-step guide to how employers can invest more in their employees so they feel motivated to invest more of themselves at work.',\n",
       "    u'byline': u'By TONY SCHWARTZ',\n",
       "    u'concepts': {u'nytd_des': [u'Labor and Jobs',\n",
       "      u'Living Wage',\n",
       "      u'Minimum Wage',\n",
       "      u'Paid Time Off',\n",
       "      u'Productivity',\n",
       "      u'Wages and Salaries']},\n",
       "    u'date': u'2015-01-09T12:28:32Z',\n",
       "    u'document_type': u'blogpost',\n",
       "    u'title': u'What a Great Place to Work Ought to Look Like ',\n",
       "    u'type_of_material': u'Blog',\n",
       "    u'url': u'http://dealbook.nytimes.com/2015/01/09/what-a-great-place-to-work-ought-to-look-like/'},\n",
       "   {u'body': u'Leading the latest one-day strike, Terrance Wise, who for years has had low-paying fast-food jobs, is at the forefront of a growing movement.',\n",
       "    u'byline': u'By STEVEN GREENHOUSE',\n",
       "    u'concepts': {u'nytd_des': [u'Fast Food Industry',\n",
       "      u'Living Wage',\n",
       "      u'Strikes',\n",
       "      u'Wages and Salaries',\n",
       "      u'Labor and Jobs'],\n",
       "     u'nytd_geo': [u'Kansas City (Mo)'],\n",
       "     u'nytd_org': [u\"McDonald's Corporation\",\n",
       "      u'National Federation of Independent Business',\n",
       "      u'Pizza Hut',\n",
       "      u\"Wendy's Co\",\n",
       "      u'Service Employees International Union',\n",
       "      u'Burger King Corp',\n",
       "      u\"Hardee's Food Systems Inc\",\n",
       "      u'Kentucky Fried Chicken']},\n",
       "    u'date': u'2014-12-05T00:00:00Z',\n",
       "    u'document_type': u'article',\n",
       "    u'title': u'Strong Voice in \\u2018Fight for 15\\u2019 Fast-Food Wage Campaign',\n",
       "    u'type_of_material': u'News',\n",
       "    u'url': u'http://www.nytimes.com/2014/12/05/business/in-fast-food-workers-fight-for-15-an-hour-a-strong-voice-in-terrance-wise.html'},\n",
       "   {u'body': u'Hundreds took part in a one-day strike in Washington as labor groups called on President Obama to prioritize federal contracting to employers that pay $15 an hour.',\n",
       "    u'byline': u'By ELENA SCHNEIDER',\n",
       "    u'concepts': {u'nytd_des': [u'Strikes',\n",
       "      u'Food',\n",
       "      u'Wages and Salaries',\n",
       "      u'Minimum Wage',\n",
       "      u'Living Wage',\n",
       "      u'United States Politics and Government',\n",
       "      u'Strikes',\n",
       "      u'Living Wage',\n",
       "      u'Minimum Wage',\n",
       "      u'United States Politics and Government'],\n",
       "     u'nytd_per': [u'Obama, Barack']},\n",
       "    u'date': u'2014-11-14T00:00:00Z',\n",
       "    u'document_type': u'article',\n",
       "    u'title': u'Federally Contracted Food Workers Strike Over Wages',\n",
       "    u'type_of_material': u'Brief',\n",
       "    u'url': u'http://www.nytimes.com/2014/11/14/us/food-service-workers-strike.html'}],\n",
       "  u'total': 56},\n",
       " u'concept_created': u'2013-02-26 02:41:09',\n",
       " u'concept_id': 1374768,\n",
       " u'concept_name': u'Living Wage',\n",
       " u'concept_status': u'Active',\n",
       " u'concept_type': u'nytd_des',\n",
       " u'concept_updated': u'2017-02-21 15:30:37',\n",
       " u'is_times_tag': 1,\n",
       " u'links': [{u'concept_id': 1374768,\n",
       "   u'concept_name': u'Living Wage',\n",
       "   u'concept_status': u'Active',\n",
       "   u'concept_type': u'nytd_des',\n",
       "   u'is_times_tag': 1,\n",
       "   u'link': u'Living wage',\n",
       "   u'link_id': 1758168,\n",
       "   u'link_type': u'wikipedia_raw_name',\n",
       "   u'mapping_type': u'manual',\n",
       "   u'relation': u'sameAs'}],\n",
       " u'search_api_query': u'http://search-add-api.prd.use1.nytimes.com/svc/add/v1/sitesearch.json?sort=newest&fq=subject%3A%22Living+Wage%22&type=article%2Cblogpost&offset=0',\n",
       " u'vernacular': u'Living Wage'}"
      ]
     },
     "execution_count": 6,
     "metadata": {},
     "output_type": "execute_result"
    }
   ],
   "source": [
    "labels_data[9]"
   ]
  },
  {
   "cell_type": "code",
   "execution_count": 3,
   "metadata": {
    "collapsed": true,
    "deletable": true,
    "editable": true
   },
   "outputs": [],
   "source": [
    "from nytimesarticle import articleAPI\n",
    "api = articleAPI('451848bd253846ca9d8147c45278b442')\n",
    "import sys\n",
    "import datetime\n",
    "import time"
   ]
  },
  {
   "cell_type": "code",
   "execution_count": 5,
   "metadata": {
    "collapsed": true,
    "deletable": true,
    "editable": true
   },
   "outputs": [],
   "source": [
    "label = labels_data[9]"
   ]
  },
  {
   "cell_type": "code",
   "execution_count": 4,
   "metadata": {
    "collapsed": false,
    "deletable": true,
    "editable": true
   },
   "outputs": [],
   "source": [
    "\n",
    "monthNames = [ \"January\", \"February\", \"March\", \"April\", \"May\", \"June\",\n",
    "\"July\", \"August\", \"September\", \"October\", \"November\", \"December\" ];\n",
    "\n",
    "def diff():\n",
    "    arr = {};\n",
    "    datFrom = datetime.date(2009, 7, 1);\n",
    "    datTo = datetime.date.today();\n",
    "    fromYear =  datFrom.year;\n",
    "    toYear =  datTo.year;\n",
    "    diffYear = (12 * (toYear - fromYear)) + datTo.month;\n",
    "\n",
    "    for i in range(datFrom.month,diffYear+1):\n",
    "        monthString =  \"%s %d\"%(monthNames[i%12],fromYear+(i/12));\n",
    "        arr[monthString] =  0;     \n",
    "    return arr;"
   ]
  },
  {
   "cell_type": "code",
   "execution_count": 5,
   "metadata": {
    "collapsed": false,
    "deletable": true,
    "editable": true
   },
   "outputs": [],
   "source": [
    "max_count = 139"
   ]
  },
  {
   "cell_type": "code",
   "execution_count": 12,
   "metadata": {
    "collapsed": false,
    "deletable": true,
    "editable": true
   },
   "outputs": [],
   "source": [
    "API_ROOT = 'http://api.nytimes.com/svc/search/v2/articlesearch.json?fq=subject:('\n",
    "def get_timeline(label):\n",
    "    global max_count\n",
    "    total=0\n",
    "    timeline = diff()\n",
    "    print label['concept_name']\n",
    "    for date in timeline.keys() :\n",
    "        error = False\n",
    "        monthNum = int(monthNames.index(date.split(' ')[0]))+1\n",
    "        startDate = \"%s%02d01\"%(date.split()[1], monthNum)\n",
    "        endDate = \"%s%02d31\"%(date.split()[1], monthNum)\n",
    "        url = '%s\"%s\")&begin_date=%s&end_date=%s&api-key=%s'%(\n",
    "            API_ROOT, label['concept_name'], startDate, endDate, API_KEY)\n",
    "        r = requests.get(url)\n",
    "        try:\n",
    "            articles = r.json()\n",
    "        except:\n",
    "            count = 0\n",
    "            error = True\n",
    "            print url\n",
    "        if not error:\n",
    "            count = articles['response']['meta']['hits']\n",
    "        timeline[date] = count\n",
    "        total+=count\n",
    "        max_count = max(max_count,count)\n",
    "        time.sleep(1)\n",
    "    print \"counted %d - %d\"%(total, label[\"article_list\"][\"total\"])\n",
    "    print \"maxCount %d\"%max_count\n",
    "    if total>0:\n",
    "        return timeline\n",
    "    else:\n",
    "        return None"
   ]
  },
  {
   "cell_type": "code",
   "execution_count": 14,
   "metadata": {
    "collapsed": false,
    "deletable": true,
    "editable": true
   },
   "outputs": [
    {
     "name": "stdout",
     "output_type": "stream",
     "text": [
      "182\n",
      "Religion and Belief\n",
      "counted 1378 - 1460\n",
      "maxCount 227\n",
      "183\n",
      "Sarbanes-Oxley Act\n",
      "counted 39 - 42\n",
      "maxCount 227\n"
     ]
    }
   ],
   "source": [
    "for i, label in enumerate(labels_data):\n",
    "    if 'timeline' not in label and label[\"article_list\"][\"total\"]>10:\n",
    "        print i\n",
    "        timeline_data = get_timeline(label)\n",
    "        if timeline_data:\n",
    "            label['timeline'] = timeline_data\n",
    "            with open('missing_labels_data_timeline.json', 'w') as outfile:\n",
    "                json.dump(labels_data, outfile)\n",
    "        else:\n",
    "            print \"not added\""
   ]
  },
  {
   "cell_type": "code",
   "execution_count": 15,
   "metadata": {
    "collapsed": false,
    "deletable": true,
    "editable": true
   },
   "outputs": [
    {
     "name": "stdout",
     "output_type": "stream",
     "text": [
      "Parenting\n",
      "http://api.nytimes.com/svc/search/v2/articlesearch.json?fq=subject:(\"Parenting\")&begin_date=20160701&end_date=20160731&api-key=451848bd253846ca9d8147c45278b442\n",
      "counted 3688 - 3803\n",
      "maxCount 227\n"
     ]
    }
   ],
   "source": [
    "label = labels_data[18] #parenting\n",
    "timeline_data = get_timeline(label)\n",
    "if timeline_data:\n",
    "    label['timeline'] = timeline_data\n",
    "    with open('missing_labels_data_timeline.json', 'w') as outfile:\n",
    "        json.dump(labels_data, outfile)\n",
    "else:\n",
    "    print \"not added\""
   ]
  },
  {
   "cell_type": "code",
   "execution_count": null,
   "metadata": {
    "collapsed": true
   },
   "outputs": [],
   "source": []
  }
 ],
 "metadata": {
  "kernelspec": {
   "display_name": "Python 2",
   "language": "python",
   "name": "python2"
  },
  "language_info": {
   "codemirror_mode": {
    "name": "ipython",
    "version": 2
   },
   "file_extension": ".py",
   "mimetype": "text/x-python",
   "name": "python",
   "nbconvert_exporter": "python",
   "pygments_lexer": "ipython2",
   "version": "2.7.13"
  }
 },
 "nbformat": 4,
 "nbformat_minor": 2
}
