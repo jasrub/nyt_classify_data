{
 "cells": [
  {
   "cell_type": "code",
   "execution_count": 1,
   "metadata": {
    "collapsed": false,
    "deletable": true,
    "editable": true
   },
   "outputs": [
    {
     "name": "stderr",
     "output_type": "stream",
     "text": [
      "Using TensorFlow backend.\n"
     ]
    }
   ],
   "source": [
    "import os\n",
    "import sys\n",
    "from bs4 import BeautifulSoup\n",
    "import pymongo\n",
    "import datetime\n",
    "import urllib2\n",
    "import json\n",
    "\n",
    "import sys\n",
    "sys.path.insert(0, '../')\n",
    "from magpie import MagpieModel\n",
    "from keras.models import load_model\n",
    "from magpie.utils import load_from_disk, save_to_disk\n",
    "import gensim\n",
    "import os\n",
    "import numpy as np\n",
    "import sklearn.metrics as metrics"
   ]
  },
  {
   "cell_type": "code",
   "execution_count": 2,
   "metadata": {
    "collapsed": true,
    "deletable": true,
    "editable": true
   },
   "outputs": [],
   "source": [
    "client = pymongo.MongoClient('mongodb://um.media.mit.edu:27017/super-glue')\n",
    "db = client.nyt_corpus\n",
    "articles_collection = db.test_articles\n",
    "docs = []\n",
    "db_articles = articles_collection.find({})\n",
    "for doc in db_articles:\n",
    "    docs.append(doc)"
   ]
  },
  {
   "cell_type": "code",
   "execution_count": 3,
   "metadata": {
    "collapsed": true,
    "deletable": true,
    "editable": true
   },
   "outputs": [],
   "source": [
    "repo_dir = \"../model\"\n",
    "file_name = \"GoogleNews-vectors-negative300.bin\"\n",
    "file_path = os.path.join(repo_dir, file_name)"
   ]
  },
  {
   "cell_type": "code",
   "execution_count": 4,
   "metadata": {
    "collapsed": false,
    "deletable": true,
    "editable": true
   },
   "outputs": [
    {
     "name": "stdout",
     "output_type": "stream",
     "text": [
      "Loading pre-trained word to vec model...\n",
      "weord2vec Model loaded\n"
     ]
    }
   ],
   "source": [
    "print \"Loading pre-trained word to vec model...\"\n",
    "word2vecmodel = gensim.models.Word2Vec.load_word2vec_format(file_path, binary=True)\n",
    "print \"weord2vec Model loaded\""
   ]
  },
  {
   "cell_type": "code",
   "execution_count": 5,
   "metadata": {
    "collapsed": false,
    "deletable": true,
    "editable": true
   },
   "outputs": [
    {
     "ename": "IOError",
     "evalue": "[Errno 2] No such file or directory: '../models/labels_long.json'",
     "output_type": "error",
     "traceback": [
      "\u001b[0;31m-----------------------------------------------------------------\u001b[0m",
      "\u001b[0;31mIOError\u001b[0m                         Traceback (most recent call last)",
      "\u001b[0;32m<ipython-input-5-30aaf5ac2c30>\u001b[0m in \u001b[0;36m<module>\u001b[0;34m()\u001b[0m\n\u001b[1;32m      1\u001b[0m \u001b[0mlabels3000\u001b[0m \u001b[0;34m=\u001b[0m \u001b[0;34m[\u001b[0m\u001b[0;34m]\u001b[0m\u001b[0;34m\u001b[0m\u001b[0m\n\u001b[0;32m----> 2\u001b[0;31m \u001b[0;32mwith\u001b[0m \u001b[0mopen\u001b[0m\u001b[0;34m(\u001b[0m\u001b[0;34m'../models/labels_long.json'\u001b[0m\u001b[0;34m)\u001b[0m \u001b[0;32mas\u001b[0m \u001b[0mdata_file\u001b[0m\u001b[0;34m:\u001b[0m\u001b[0;34m\u001b[0m\u001b[0m\n\u001b[0m\u001b[1;32m      3\u001b[0m     \u001b[0mlabels3000\u001b[0m \u001b[0;34m=\u001b[0m \u001b[0mjson\u001b[0m\u001b[0;34m.\u001b[0m\u001b[0mload\u001b[0m\u001b[0;34m(\u001b[0m\u001b[0mdata_file\u001b[0m\u001b[0;34m)\u001b[0m\u001b[0;34m\u001b[0m\u001b[0m\n\u001b[1;32m      4\u001b[0m \u001b[0mscaler3000\u001b[0m \u001b[0;34m=\u001b[0m \u001b[0mload_from_disk\u001b[0m\u001b[0;34m(\u001b[0m\u001b[0;34m'../scaler/scaler_labels_long'\u001b[0m\u001b[0;34m)\u001b[0m\u001b[0;34m\u001b[0m\u001b[0m\n\u001b[1;32m      5\u001b[0m \u001b[0mkeras_model3000\u001b[0m \u001b[0;34m=\u001b[0m \u001b[0mload_model\u001b[0m\u001b[0;34m(\u001b[0m\u001b[0;34m'../models/saved_models_labels_long/weights.01-0.00.hdf5'\u001b[0m\u001b[0;34m)\u001b[0m\u001b[0;34m\u001b[0m\u001b[0m\n",
      "\u001b[0;31mIOError\u001b[0m: [Errno 2] No such file or directory: '../models/labels_long.json'"
     ]
    }
   ],
   "source": [
    "labels3000 = []\n",
    "with open('../models/labels_long.json') as data_file:\n",
    "    labels3000 = json.load(data_file)\n",
    "scaler3000 = load_from_disk('../scaler/scaler_labels_long')\n",
    "keras_model3000 = load_model('../models/saved_models_labels_long/weights.01-0.00.hdf5')\n",
    "model3000 = MagpieModel(keras_model=keras_model3000, word2vec_model=word2vecmodel, scaler=scaler3000, labels=labels3000)\n",
    "\n",
    "labels600 = []\n",
    "with open('../models/labels.json') as data_file:\n",
    "    labels600 = json.load(data_file)\n",
    "scaler600 = load_from_disk('../scaler/scaler')\n",
    "keras_model600 = load_model('../models/saved_models/trained_model.h5')\n",
    "model600 = MagpieModel(keras_model=keras_model600, word2vec_model=word2vecmodel, scaler=scaler600, labels=labels600)\n",
    "\n",
    "labels_all = []\n",
    "with open('../models/descriptors.json') as data_file:\n",
    "    labels_all = [l[\"word\"] for l in json.load(data_file)]\n",
    "scaler_all = load_from_disk('../scaler/scalar_all_labels')\n",
    "keras_model_all = load_model('../models/saved_models_all_labels/trained_model_all_labels.h5')\n",
    "model_all = MagpieModel(keras_model=keras_model_all, word2vec_model=word2vecmodel, scaler=scaler_all, labels=labels_all)\n",
    "\n",
    "labels_tax = []\n",
    "with open('../models/labels_with_taxonomies.json') as data_file:\n",
    "    labels_tax = json.load(data_file)\n",
    "scaler_tax = load_from_disk('../scaler/scalar_all_labels')\n",
    "keras_model_tax = load_model('../models/saved_models_with_taxonomies/weights.01-0.00.hdf5')\n",
    "model_tax = MagpieModel(keras_model=keras_model_tax, word2vec_model=word2vecmodel, scaler=scaler_tax, labels=labels_tax)"
   ]
  },
  {
   "cell_type": "code",
   "execution_count": null,
   "metadata": {
    "collapsed": true,
    "deletable": true,
    "editable": true
   },
   "outputs": [],
   "source": []
  }
 ],
 "metadata": {
  "kernelspec": {
   "display_name": "Python 2",
   "language": "python",
   "name": "python2"
  },
  "language_info": {
   "codemirror_mode": {
    "name": "ipython",
    "version": 2
   },
   "file_extension": ".py",
   "mimetype": "text/x-python",
   "name": "python",
   "nbconvert_exporter": "python",
   "pygments_lexer": "ipython2",
   "version": "2.7.13"
  }
 },
 "nbformat": 4,
 "nbformat_minor": 2
}
