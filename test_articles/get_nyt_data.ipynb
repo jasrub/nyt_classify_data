{
 "cells": [
  {
   "cell_type": "code",
   "execution_count": 1,
   "metadata": {
    "collapsed": true,
    "deletable": true,
    "editable": true
   },
   "outputs": [],
   "source": [
    "from nytimesarticle import articleAPI\n",
    "api = articleAPI('451848bd253846ca9d8147c45278b442')\n"
   ]
  },
  {
   "cell_type": "code",
   "execution_count": 2,
   "metadata": {
    "collapsed": true,
    "deletable": true,
    "editable": true
   },
   "outputs": [],
   "source": [
    "import requests\n",
    "\n",
    "API_ROOT = 'http://api.nytimes.com/svc/search/v2/articlesearch.'\n",
    "API_KEY = '451848bd253846ca9d8147c45278b442'"
   ]
  },
  {
   "cell_type": "code",
   "execution_count": 3,
   "metadata": {
    "collapsed": true,
    "deletable": true,
    "editable": true
   },
   "outputs": [],
   "source": [
    "import time\n",
    "import sys"
   ]
  },
  {
   "cell_type": "code",
   "execution_count": 7,
   "metadata": {
    "collapsed": true,
    "deletable": true,
    "editable": true
   },
   "outputs": [],
   "source": [
    "all_articles = []"
   ]
  },
  {
   "cell_type": "code",
   "execution_count": 22,
   "metadata": {
    "collapsed": false,
    "deletable": true,
    "editable": true
   },
   "outputs": [
    {
     "name": "stdout",
     "output_type": "stream",
     "text": [
      "got 10 articles\n",
      "got 10 articles\n",
      "got 10 articles\n",
      "got 10 articles\n",
      "got 10 articles\n",
      "got 10 articles\n",
      "got 10 articles\n",
      "got 10 articles\n",
      "got 10 articles\n",
      "got 10 articles\n",
      "got 10 articles\n",
      "got 10 articles\n",
      "got 10 articles\n",
      "got 10 articles\n",
      "got 10 articles\n",
      "got 10 articles\n",
      "got 10 articles\n",
      "got 10 articles\n",
      "<type 'exceptions.ValueError'>\n",
      "18\n",
      "got 3150 total articles\n",
      "got 10 articles\n",
      "got 10 articles\n",
      "got 10 articles\n",
      "got 10 articles\n",
      "<type 'exceptions.ValueError'>\n",
      "23\n",
      "got 3190 total articles\n",
      "<type 'exceptions.KeyError'>\n",
      "24\n",
      "got 3190 total articles\n",
      "<type 'exceptions.KeyError'>\n",
      "25\n",
      "got 3190 total articles\n",
      "<type 'exceptions.KeyError'>\n",
      "26\n",
      "got 3190 total articles\n",
      "<type 'exceptions.KeyError'>\n",
      "27\n",
      "got 3190 total articles\n",
      "<type 'exceptions.KeyError'>\n",
      "28\n",
      "got 3190 total articles\n",
      "<type 'exceptions.KeyError'>\n",
      "29\n",
      "got 3190 total articles\n",
      "<type 'exceptions.KeyError'>\n",
      "30\n",
      "got 3190 total articles\n",
      "<type 'exceptions.KeyError'>\n",
      "31\n",
      "got 3190 total articles\n",
      "<type 'exceptions.KeyError'>\n",
      "32\n",
      "got 3190 total articles\n",
      "<type 'exceptions.KeyError'>\n",
      "33\n",
      "got 3190 total articles\n",
      "<type 'exceptions.KeyError'>\n",
      "34\n",
      "got 3190 total articles\n",
      "<type 'exceptions.KeyError'>\n",
      "35\n",
      "got 3190 total articles\n",
      "<type 'exceptions.KeyError'>\n",
      "36\n",
      "got 3190 total articles\n",
      "<type 'exceptions.KeyError'>\n",
      "37\n",
      "got 3190 total articles\n",
      "<type 'exceptions.KeyError'>\n",
      "38\n",
      "got 3190 total articles\n",
      "<type 'exceptions.KeyError'>\n",
      "39\n",
      "got 3190 total articles\n",
      "<type 'exceptions.KeyError'>\n",
      "40\n",
      "got 3190 total articles\n",
      "<type 'exceptions.KeyError'>\n",
      "41\n",
      "got 3190 total articles\n",
      "got 10 articles\n",
      "got 10 articles\n",
      "<type 'exceptions.ValueError'>\n",
      "44\n",
      "got 3210 total articles\n",
      "<type 'exceptions.ValueError'>\n",
      "45\n",
      "got 3210 total articles\n",
      "<type 'exceptions.KeyError'>\n",
      "46\n",
      "got 3210 total articles\n",
      "<type 'exceptions.KeyError'>\n",
      "47\n",
      "got 3210 total articles\n",
      "<type 'exceptions.KeyError'>\n",
      "48\n",
      "got 3210 total articles\n",
      "<type 'exceptions.KeyError'>\n",
      "49\n",
      "got 3210 total articles\n",
      "<type 'exceptions.KeyError'>\n",
      "50\n",
      "got 3210 total articles\n",
      "<type 'exceptions.KeyError'>\n",
      "51\n",
      "got 3210 total articles\n",
      "<type 'exceptions.KeyError'>\n",
      "52\n",
      "got 3210 total articles\n",
      "<type 'exceptions.KeyError'>\n",
      "53\n",
      "got 3210 total articles\n",
      "got 10 articles\n",
      "got 10 articles\n",
      "got 10 articles\n",
      "got 10 articles\n",
      "got 10 articles\n",
      "<type 'exceptions.ValueError'>\n",
      "59\n",
      "got 3260 total articles\n",
      "got 10 articles\n",
      "got 10 articles\n",
      "got 10 articles\n",
      "got 10 articles\n",
      "got 10 articles\n",
      "<type 'exceptions.ValueError'>\n",
      "65\n",
      "got 3310 total articles\n",
      "<type 'exceptions.KeyError'>\n",
      "66\n",
      "got 3310 total articles\n",
      "<type 'exceptions.KeyError'>\n",
      "67\n",
      "got 3310 total articles\n",
      "<type 'exceptions.KeyError'>\n",
      "68\n",
      "got 3310 total articles\n",
      "<type 'exceptions.KeyError'>\n",
      "69\n",
      "got 3310 total articles\n",
      "<type 'exceptions.KeyError'>\n",
      "70\n",
      "got 3310 total articles\n",
      "<type 'exceptions.KeyError'>\n",
      "71\n",
      "got 3310 total articles\n",
      "<type 'exceptions.KeyError'>\n",
      "72\n",
      "got 3310 total articles\n",
      "<type 'exceptions.KeyError'>\n",
      "73\n",
      "got 3310 total articles\n",
      "<type 'exceptions.KeyError'>\n",
      "74\n",
      "got 3310 total articles\n",
      "<type 'exceptions.KeyError'>\n",
      "75\n",
      "got 3310 total articles\n",
      "<type 'exceptions.KeyError'>\n",
      "76\n",
      "got 3310 total articles\n",
      "got 10 articles\n",
      "got 10 articles\n",
      "got 10 articles\n",
      "got 10 articles\n",
      "got 10 articles\n",
      "got 10 articles\n",
      "got 10 articles\n",
      "got 10 articles\n",
      "got 10 articles\n",
      "got 10 articles\n",
      "got 10 articles\n",
      "got 10 articles\n",
      "got 10 articles\n",
      "got 10 articles\n",
      "got 10 articles\n",
      "got 10 articles\n",
      "got 10 articles\n",
      "got 10 articles\n",
      "<type 'exceptions.ValueError'>\n",
      "95\n",
      "got 3490 total articles\n",
      "<type 'exceptions.KeyError'>\n",
      "96\n",
      "got 3490 total articles\n",
      "got 10 articles\n",
      "<type 'exceptions.ValueError'>\n",
      "98\n",
      "got 3500 total articles\n",
      "<type 'exceptions.KeyError'>\n",
      "99\n",
      "got 3500 total articles\n",
      "<type 'exceptions.KeyError'>\n",
      "100\n",
      "got 3500 total articles\n",
      "got 10 articles\n",
      "got 10 articles\n",
      "got 10 articles\n",
      "got 10 articles\n",
      "got 10 articles\n",
      "got 10 articles\n",
      "got 10 articles\n",
      "got 10 articles\n",
      "got 10 articles\n",
      "<type 'exceptions.ValueError'>\n",
      "110\n",
      "got 3590 total articles\n",
      "<type 'exceptions.KeyError'>\n",
      "111\n",
      "got 3590 total articles\n",
      "<type 'exceptions.KeyError'>\n",
      "112\n",
      "got 3590 total articles\n",
      "<type 'exceptions.KeyError'>\n",
      "113\n",
      "got 3590 total articles\n",
      "<type 'exceptions.KeyError'>\n",
      "114\n",
      "got 3590 total articles\n",
      "got 10 articles\n",
      "got 10 articles\n",
      "got 10 articles\n",
      "got 10 articles\n",
      "<type 'exceptions.ValueError'>\n",
      "119\n",
      "got 3630 total articles\n"
     ]
    }
   ],
   "source": [
    "for i in range(120):\n",
    "    try:\n",
    "        articles = api.search(fq = {'type_of_material':'News','source':'The New York Times'},\n",
    "                              start_date=20080101,\n",
    "                              end_date=20101020, \n",
    "                              page=i)\n",
    "        #print articles\n",
    "        print \"got %d articles\"%len(articles['response']['docs'])\n",
    "        all_articles.extend(articles['response']['docs'])\n",
    "        time.sleep(5)\n",
    "    except:\n",
    "        print sys.exc_info()[0]\n",
    "        print i\n",
    "        print \"got %d total articles\"%len(all_articles)\n",
    "        "
   ]
  },
  {
   "cell_type": "code",
   "execution_count": 25,
   "metadata": {
    "collapsed": true,
    "deletable": true,
    "editable": true
   },
   "outputs": [],
   "source": [
    "import json\n",
    "with open('test_articles/articles.json', 'w') as f:\n",
    "    json.dump(all_articles, f)"
   ]
  },
  {
   "cell_type": "code",
   "execution_count": null,
   "metadata": {
    "collapsed": false,
    "deletable": true,
    "editable": true
   },
   "outputs": [],
   "source": []
  },
  {
   "cell_type": "code",
   "execution_count": 23,
   "metadata": {
    "collapsed": false,
    "deletable": true,
    "editable": true
   },
   "outputs": [
    {
     "data": {
      "text/plain": [
       "3630"
      ]
     },
     "execution_count": 23,
     "metadata": {},
     "output_type": "execute_result"
    }
   ],
   "source": [
    "len(all_articles)"
   ]
  },
  {
   "cell_type": "code",
   "execution_count": 24,
   "metadata": {
    "collapsed": false,
    "deletable": true,
    "editable": true
   },
   "outputs": [
    {
     "data": {
      "text/plain": [
       "{u'_id': u'541ba9eb38f0d8296cb0fec5',\n",
       " u'abstract': None,\n",
       " u'blog': [],\n",
       " u'byline': None,\n",
       " u'document_type': u'article',\n",
       " u'headline': {u'main': u'Sarah Wagman and Andrew Ellenbogen',\n",
       "  u'print_headline': u'Sarah Wagman, Andrew Ellenbogen'},\n",
       " u'keywords': [{u'is_major': u'N',\n",
       "   u'name': u'subject',\n",
       "   u'rank': u'1',\n",
       "   u'value': u'Weddings and Engagements'}],\n",
       " u'lead_paragraph': u'The bride works for Google on deals involving media companies and mobile devices; the bridegroom is an investment banker at Morgan Stanley.',\n",
       " u'multimedia': [{u'height': 75,\n",
       "   u'legacy': {u'thumbnail': u'images/2010/10/17/fashion/weddings/17WAGMAN/17WAGMAN-thumbStandard.jpg',\n",
       "    u'thumbnailheight': u'75',\n",
       "    u'thumbnailwidth': u'75'},\n",
       "   u'subtype': u'thumbnail',\n",
       "   u'type': u'image',\n",
       "   u'url': u'images/2010/10/17/fashion/weddings/17WAGMAN/17WAGMAN-thumbStandard.jpg',\n",
       "   u'width': 75}],\n",
       " u'news_desk': u'Society',\n",
       " u'print_page': u'19',\n",
       " u'pub_date': u'2010-10-17T00:00:00Z',\n",
       " u'section_name': u'Fashion & Style',\n",
       " u'slideshow_credits': None,\n",
       " u'snippet': u'The bride works for Google on deals involving media companies and mobile devices; the bridegroom is an investment banker at Morgan Stanley....',\n",
       " u'source': u'The New York Times',\n",
       " u'subsection_name': u'Weddings/Celebrations',\n",
       " u'type_of_material': u'News',\n",
       " u'web_url': u'http://www.nytimes.com/2010/10/17/fashion/weddings/17wagman.html',\n",
       " u'word_count': u'162'}"
      ]
     },
     "execution_count": 24,
     "metadata": {},
     "output_type": "execute_result"
    }
   ],
   "source": [
    "all_articles[-1]"
   ]
  },
  {
   "cell_type": "code",
   "execution_count": null,
   "metadata": {
    "collapsed": true,
    "deletable": true,
    "editable": true
   },
   "outputs": [],
   "source": []
  }
 ],
 "metadata": {
  "kernelspec": {
   "display_name": "Python 2",
   "language": "python",
   "name": "python2"
  },
  "language_info": {
   "codemirror_mode": {
    "name": "ipython",
    "version": 2
   },
   "file_extension": ".py",
   "mimetype": "text/x-python",
   "name": "python",
   "nbconvert_exporter": "python",
   "pygments_lexer": "ipython2",
   "version": "2.7.13"
  }
 },
 "nbformat": 4,
 "nbformat_minor": 2
}
